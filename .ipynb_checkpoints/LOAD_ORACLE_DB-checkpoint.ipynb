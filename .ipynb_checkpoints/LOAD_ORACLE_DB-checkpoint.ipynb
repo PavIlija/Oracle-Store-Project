{
 "cells": [
  {
   "cell_type": "code",
   "execution_count": 1,
   "id": "10819eab-affe-4175-bf4c-41a4e4c5a799",
   "metadata": {
    "scrolled": true
   },
   "outputs": [
    {
     "name": "stderr",
     "output_type": "stream",
     "text": [
      "2024-08-30 10:33:52,352 — __main__ — INFO — Connected to the production database successfully.\n",
      "2024-08-30 10:33:52,354 — __main__ — ERROR — Database error occurred: 942, ORA-00942: table or view does not exist\n",
      "Help: https://docs.oracle.com/error-help/db/ora-00942/\n",
      "2024-08-30 10:33:52,356 — __main__ — INFO — Database connection to production closed.\n"
     ]
    }
   ],
   "source": [
    "import os\n",
    "import configparser\n",
    "import oracledb\n",
    "import pandas as pd\n",
    "import logging\n",
    "\n",
    "# Configure logging\n",
    "logging.basicConfig(level=logging.INFO, format='%(asctime)s — %(name)s — %(levelname)s — %(message)s')\n",
    "logger = logging.getLogger(__name__)\n",
    "\n",
    "def get_db_config(env, config_path='config/config.ini'):\n",
    "    \"\"\"Reads the database configuration for the given environment.\"\"\"\n",
    "    config = configparser.ConfigParser()\n",
    "    config.read(config_path)\n",
    "    if env in config:\n",
    "        return config[env]\n",
    "    else:\n",
    "        raise ValueError(f\"Configuration for the environment '{env}' not found.\")\n",
    "\n",
    "def connect_to_database(config):\n",
    "    \"\"\"Connects to the Oracle database using the provided configuration.\"\"\"\n",
    "    return oracledb.connect(user=config['username'], password=config['password'], dsn=config['dsn'])\n",
    "\n",
    "def fetch_data(query, connection):\n",
    "    \"\"\"Fetches data from the database using the given connection and query.\"\"\"\n",
    "    with connection.cursor() as cursor:\n",
    "        cursor.execute(query)\n",
    "        columns = [col[0] for col in cursor.description]\n",
    "        return pd.DataFrame(cursor.fetchall(), columns=columns)\n",
    "\n",
    "def main():\n",
    "    environment = os.getenv('ENVIRONMENT', 'production_app')  # Default to 'test' if not set\n",
    "    config_path = os.getenv('CONFIG_PATH', 'config/config.ini')\n",
    "    \n",
    "    try:\n",
    "        db_config = get_db_config(environment, config_path)\n",
    "        \n",
    "        # Initialize connection as None\n",
    "        conn = None\n",
    "\n",
    "        # Connect to the database\n",
    "        conn = connect_to_database(db_config)\n",
    "        logger.info(f\"Connected to the {environment} database successfully.\")\n",
    "        \n",
    "        query = 'SELECT * FROM CUSTOMERS'\n",
    "        df = fetch_data(query, conn)\n",
    "        \n",
    "        # Display DataFrame\n",
    "        with pd.option_context('display.max_rows', None, 'display.max_columns', None):\n",
    "            print(df)\n",
    "    \n",
    "    except oracledb.DatabaseError as e:\n",
    "        error, = e.args\n",
    "        logger.error(f\"Database error occurred: {error.code}, {error.message}\")\n",
    "    \n",
    "    except Exception as e:\n",
    "        logger.error(f\"An unexpected error occurred: {e}\")\n",
    "\n",
    "    finally:\n",
    "        # Close the database connection if it was established\n",
    "        if conn is not None:\n",
    "            try:\n",
    "                conn.close()\n",
    "                logger.info(f\"Database connection to {environment} closed.\")\n",
    "            except Exception as e:\n",
    "                logger.error(f\"Failed to close the database connection: {e}\")\n",
    "\n",
    "if __name__ == '__main__':\n",
    "    main()\n"
   ]
  },
  {
   "cell_type": "code",
   "execution_count": null,
   "id": "9c6c4f96-8a04-4e72-b0eb-009375c96265",
   "metadata": {},
   "outputs": [],
   "source": []
  }
 ],
 "metadata": {
  "kernelspec": {
   "display_name": "Python 3 (ipykernel)",
   "language": "python",
   "name": "python3"
  },
  "language_info": {
   "codemirror_mode": {
    "name": "ipython",
    "version": 3
   },
   "file_extension": ".py",
   "mimetype": "text/x-python",
   "name": "python",
   "nbconvert_exporter": "python",
   "pygments_lexer": "ipython3",
   "version": "3.12.5"
  }
 },
 "nbformat": 4,
 "nbformat_minor": 5
}
